{
  "nbformat": 4,
  "nbformat_minor": 0,
  "metadata": {
    "kernelspec": {
      "display_name": "Python 3",
      "language": "python",
      "name": "python3"
    },
    "language_info": {
      "codemirror_mode": {
        "name": "ipython",
        "version": 3
      },
      "file_extension": ".py",
      "mimetype": "text/x-python",
      "name": "python",
      "nbconvert_exporter": "python",
      "pygments_lexer": "ipython3",
      "version": "3.8.5"
    },
    "colab": {
      "name": "Copy of Homework1.ipynb",
      "provenance": [],
      "include_colab_link": true
    },
    "widgets": {
      "application/vnd.jupyter.widget-state+json": {
        "c200745dc2314f04a1519c4ec737f844": {
          "model_module": "@jupyter-widgets/controls",
          "model_name": "HBoxModel",
          "state": {
            "_view_name": "HBoxView",
            "_dom_classes": [],
            "_model_name": "HBoxModel",
            "_view_module": "@jupyter-widgets/controls",
            "_model_module_version": "1.5.0",
            "_view_count": null,
            "_view_module_version": "1.5.0",
            "box_style": "",
            "layout": "IPY_MODEL_b346fea9227b4a20a1562b51987da8a4",
            "_model_module": "@jupyter-widgets/controls",
            "children": [
              "IPY_MODEL_920645819d244502afcdde0adae9ea89",
              "IPY_MODEL_c0fb1f45398f4243833c90220aeebd15"
            ]
          }
        },
        "b346fea9227b4a20a1562b51987da8a4": {
          "model_module": "@jupyter-widgets/base",
          "model_name": "LayoutModel",
          "state": {
            "_view_name": "LayoutView",
            "grid_template_rows": null,
            "right": null,
            "justify_content": null,
            "_view_module": "@jupyter-widgets/base",
            "overflow": null,
            "_model_module_version": "1.2.0",
            "_view_count": null,
            "flex_flow": null,
            "width": null,
            "min_width": null,
            "border": null,
            "align_items": null,
            "bottom": null,
            "_model_module": "@jupyter-widgets/base",
            "top": null,
            "grid_column": null,
            "overflow_y": null,
            "overflow_x": null,
            "grid_auto_flow": null,
            "grid_area": null,
            "grid_template_columns": null,
            "flex": null,
            "_model_name": "LayoutModel",
            "justify_items": null,
            "grid_row": null,
            "max_height": null,
            "align_content": null,
            "visibility": null,
            "align_self": null,
            "height": null,
            "min_height": null,
            "padding": null,
            "grid_auto_rows": null,
            "grid_gap": null,
            "max_width": null,
            "order": null,
            "_view_module_version": "1.2.0",
            "grid_template_areas": null,
            "object_position": null,
            "object_fit": null,
            "grid_auto_columns": null,
            "margin": null,
            "display": null,
            "left": null
          }
        },
        "920645819d244502afcdde0adae9ea89": {
          "model_module": "@jupyter-widgets/controls",
          "model_name": "FloatProgressModel",
          "state": {
            "_view_name": "ProgressView",
            "style": "IPY_MODEL_559070ea726d430ab3814a96740b6d96",
            "_dom_classes": [],
            "description": "100%",
            "_model_name": "FloatProgressModel",
            "bar_style": "success",
            "max": 87306240,
            "_view_module": "@jupyter-widgets/controls",
            "_model_module_version": "1.5.0",
            "value": 87306240,
            "_view_count": null,
            "_view_module_version": "1.5.0",
            "orientation": "horizontal",
            "min": 0,
            "description_tooltip": null,
            "_model_module": "@jupyter-widgets/controls",
            "layout": "IPY_MODEL_6976a7d92f434e78ba6e64337e2fae3b"
          }
        },
        "c0fb1f45398f4243833c90220aeebd15": {
          "model_module": "@jupyter-widgets/controls",
          "model_name": "HTMLModel",
          "state": {
            "_view_name": "HTMLView",
            "style": "IPY_MODEL_cbdb00b4212e4cd79bc47fe698e3c878",
            "_dom_classes": [],
            "description": "",
            "_model_name": "HTMLModel",
            "placeholder": "​",
            "_view_module": "@jupyter-widgets/controls",
            "_model_module_version": "1.5.0",
            "value": " 83.3M/83.3M [00:02&lt;00:00, 40.8MB/s]",
            "_view_count": null,
            "_view_module_version": "1.5.0",
            "description_tooltip": null,
            "_model_module": "@jupyter-widgets/controls",
            "layout": "IPY_MODEL_cfdf19959014488886d4651336475cd8"
          }
        },
        "559070ea726d430ab3814a96740b6d96": {
          "model_module": "@jupyter-widgets/controls",
          "model_name": "ProgressStyleModel",
          "state": {
            "_view_name": "StyleView",
            "_model_name": "ProgressStyleModel",
            "description_width": "initial",
            "_view_module": "@jupyter-widgets/base",
            "_model_module_version": "1.5.0",
            "_view_count": null,
            "_view_module_version": "1.2.0",
            "bar_color": null,
            "_model_module": "@jupyter-widgets/controls"
          }
        },
        "6976a7d92f434e78ba6e64337e2fae3b": {
          "model_module": "@jupyter-widgets/base",
          "model_name": "LayoutModel",
          "state": {
            "_view_name": "LayoutView",
            "grid_template_rows": null,
            "right": null,
            "justify_content": null,
            "_view_module": "@jupyter-widgets/base",
            "overflow": null,
            "_model_module_version": "1.2.0",
            "_view_count": null,
            "flex_flow": null,
            "width": null,
            "min_width": null,
            "border": null,
            "align_items": null,
            "bottom": null,
            "_model_module": "@jupyter-widgets/base",
            "top": null,
            "grid_column": null,
            "overflow_y": null,
            "overflow_x": null,
            "grid_auto_flow": null,
            "grid_area": null,
            "grid_template_columns": null,
            "flex": null,
            "_model_name": "LayoutModel",
            "justify_items": null,
            "grid_row": null,
            "max_height": null,
            "align_content": null,
            "visibility": null,
            "align_self": null,
            "height": null,
            "min_height": null,
            "padding": null,
            "grid_auto_rows": null,
            "grid_gap": null,
            "max_width": null,
            "order": null,
            "_view_module_version": "1.2.0",
            "grid_template_areas": null,
            "object_position": null,
            "object_fit": null,
            "grid_auto_columns": null,
            "margin": null,
            "display": null,
            "left": null
          }
        },
        "cbdb00b4212e4cd79bc47fe698e3c878": {
          "model_module": "@jupyter-widgets/controls",
          "model_name": "DescriptionStyleModel",
          "state": {
            "_view_name": "StyleView",
            "_model_name": "DescriptionStyleModel",
            "description_width": "",
            "_view_module": "@jupyter-widgets/base",
            "_model_module_version": "1.5.0",
            "_view_count": null,
            "_view_module_version": "1.2.0",
            "_model_module": "@jupyter-widgets/controls"
          }
        },
        "cfdf19959014488886d4651336475cd8": {
          "model_module": "@jupyter-widgets/base",
          "model_name": "LayoutModel",
          "state": {
            "_view_name": "LayoutView",
            "grid_template_rows": null,
            "right": null,
            "justify_content": null,
            "_view_module": "@jupyter-widgets/base",
            "overflow": null,
            "_model_module_version": "1.2.0",
            "_view_count": null,
            "flex_flow": null,
            "width": null,
            "min_width": null,
            "border": null,
            "align_items": null,
            "bottom": null,
            "_model_module": "@jupyter-widgets/base",
            "top": null,
            "grid_column": null,
            "overflow_y": null,
            "overflow_x": null,
            "grid_auto_flow": null,
            "grid_area": null,
            "grid_template_columns": null,
            "flex": null,
            "_model_name": "LayoutModel",
            "justify_items": null,
            "grid_row": null,
            "max_height": null,
            "align_content": null,
            "visibility": null,
            "align_self": null,
            "height": null,
            "min_height": null,
            "padding": null,
            "grid_auto_rows": null,
            "grid_gap": null,
            "max_width": null,
            "order": null,
            "_view_module_version": "1.2.0",
            "grid_template_areas": null,
            "object_position": null,
            "object_fit": null,
            "grid_auto_columns": null,
            "margin": null,
            "display": null,
            "left": null
          }
        }
      }
    }
  },
  "cells": [
    {
      "cell_type": "markdown",
      "metadata": {
        "id": "view-in-github",
        "colab_type": "text"
      },
      "source": [
        "<a href=\"https://colab.research.google.com/github/Jacob-Brink/.emacs.d/blob/linodeRemote/Homework1_Data_FINALLY_LOADS_UGGGGG.ipynb\" target=\"_parent\"><img src=\"https://colab.research.google.com/assets/colab-badge.svg\" alt=\"Open In Colab\"/></a>"
      ]
    },
    {
      "cell_type": "markdown",
      "metadata": {
        "id": "Q1vQU11k188b"
      },
      "source": [
        "# Homework 1"
      ]
    },
    {
      "cell_type": "code",
      "metadata": {
        "id": "_eLajuS2H_SO"
      },
      "source": [
        "# For Colab, add (and run) this code cell above everything else \n",
        "\n",
        "try: import fastbook \n",
        "\n",
        "except ImportError: import subprocess; subprocess.run(['pip','install','-Uq','fastbook']) "
      ],
      "execution_count": 49,
      "outputs": []
    },
    {
      "cell_type": "code",
      "metadata": {
        "id": "BJ2cA9fD49ED",
        "colab": {
          "base_uri": "https://localhost:8080/"
        },
        "outputId": "ef099d30-7406-4b61-9cfa-ad6a80ac6b64"
      },
      "source": [
        "# Import yelp data set from our shared google drive\n",
        "from google.colab import drive\n",
        "drive.mount(\"/content/gdrive\")"
      ],
      "execution_count": 69,
      "outputs": [
        {
          "output_type": "stream",
          "text": [
            "Drive already mounted at /content/gdrive; to attempt to forcibly remount, call drive.mount(\"/content/gdrive\", force_remount=True).\n"
          ],
          "name": "stdout"
        }
      ]
    },
    {
      "cell_type": "code",
      "metadata": {
        "id": "KuVBMHS36Nnf"
      },
      "source": [
        "DATA_PATH = \"/content/gdrive/Shareddrives/CS344-DATA/homework-01/yelp_photos_subset001/\""
      ],
      "execution_count": 71,
      "outputs": []
    },
    {
      "cell_type": "code",
      "metadata": {
        "id": "k-RWgIXo-m-U"
      },
      "source": [
        "get_files??\n",
        "\n",
        "import json\n",
        "\n",
        "# reduces yelp files by only returning the paths of files that match the given list of labels\n",
        "def prune_yelp_photos(path_list, sorted, labels):\n",
        "\n",
        "  pruned_files = []\n",
        "\n",
        "  for path in path_list:\n",
        "    label = sorted[(path.name).split(\".\")[0]]\n",
        "    if (label in labels):\n",
        "      pruned_files.append(path)\n",
        "  \n",
        "  return L(pruned_files)\n",
        "\n",
        "\n",
        "# sorting the data, keys are the id of the photo and the value is the label the photo has\n",
        "sorted_data = {}\n",
        "\n",
        "# label function\n",
        "def is_inside(file_name):\n",
        "  return sorted_data[file_name.split(\".\")[0]] == \"inside\"\n",
        "\n",
        "with open(f\"{DATA_PATH}photos.json\") as file:\n",
        "  # load data\n",
        "  data = json.load(file) \n",
        "\n",
        "  # sort through data\n",
        "  for p in data:\n",
        "    photo_label = p['label']\n",
        "    photo_file_name = p['photo_id']\n",
        "    sorted_data[photo_file_name] = photo_label\n",
        "\n",
        "\n"
      ],
      "execution_count": 91,
      "outputs": []
    },
    {
      "cell_type": "code",
      "metadata": {
        "id": "37caOuF6188k",
        "colab": {
          "base_uri": "https://localhost:8080/",
          "height": 249,
          "referenced_widgets": [
            "c200745dc2314f04a1519c4ec737f844",
            "b346fea9227b4a20a1562b51987da8a4",
            "920645819d244502afcdde0adae9ea89",
            "c0fb1f45398f4243833c90220aeebd15",
            "559070ea726d430ab3814a96740b6d96",
            "6976a7d92f434e78ba6e64337e2fae3b",
            "cbdb00b4212e4cd79bc47fe698e3c878",
            "cfdf19959014488886d4651336475cd8"
          ]
        },
        "outputId": "4cdc59ed-e016-4111-f6b6-b329eeaf3903"
      },
      "source": [
        "#id first_training\n",
        "#caption Results from the first training\n",
        "# CLICK ME\n",
        "from fastai.vision.all import * # imports fastai\n",
        "\n",
        "def is_cat(x): return x[0].isupper() # determines label of data from filename\n",
        "dls = ImageDataLoaders.from_name_func(\n",
        "    DATA_PATH, prune_yelp_photos(get_files(f\"{DATA_PATH}photos\"), sorted_data, ['inside', 'outside']), valid_pct=0.2, seed=42,\n",
        "    label_func=is_inside, item_tfms=Resize(224)) # sets up ai\n",
        "\n",
        "learn = cnn_learner(dls, resnet34, metrics=error_rate) \n",
        "learn.fine_tune(1)\n"
      ],
      "execution_count": null,
      "outputs": [
        {
          "output_type": "stream",
          "text": [
            "Downloading: \"https://download.pytorch.org/models/resnet34-333f7ec4.pth\" to /root/.cache/torch/hub/checkpoints/resnet34-333f7ec4.pth\n"
          ],
          "name": "stderr"
        },
        {
          "output_type": "display_data",
          "data": {
            "application/vnd.jupyter.widget-view+json": {
              "model_id": "c200745dc2314f04a1519c4ec737f844",
              "version_minor": 0,
              "version_major": 2
            },
            "text/plain": [
              "HBox(children=(FloatProgress(value=0.0, max=87306240.0), HTML(value='')))"
            ]
          },
          "metadata": {
            "tags": []
          }
        },
        {
          "output_type": "stream",
          "text": [
            "\n"
          ],
          "name": "stdout"
        },
        {
          "output_type": "display_data",
          "data": {
            "text/html": [
              "<table border=\"1\" class=\"dataframe\">\n",
              "  <thead>\n",
              "    <tr style=\"text-align: left;\">\n",
              "      <th>epoch</th>\n",
              "      <th>train_loss</th>\n",
              "      <th>valid_loss</th>\n",
              "      <th>error_rate</th>\n",
              "      <th>time</th>\n",
              "    </tr>\n",
              "  </thead>\n",
              "  <tbody>\n",
              "    <tr>\n",
              "      <td>0</td>\n",
              "      <td>0.891092</td>\n",
              "      <td>0.183326</td>\n",
              "      <td>0.064615</td>\n",
              "      <td>08:36</td>\n",
              "    </tr>\n",
              "  </tbody>\n",
              "</table>"
            ],
            "text/plain": [
              "<IPython.core.display.HTML object>"
            ]
          },
          "metadata": {
            "tags": []
          }
        },
        {
          "output_type": "display_data",
          "data": {
            "text/html": [
              "\n",
              "    <div>\n",
              "        <style>\n",
              "            /* Turns off some styling */\n",
              "            progress {\n",
              "                /* gets rid of default border in Firefox and Opera. */\n",
              "                border: none;\n",
              "                /* Needs to be in here for Safari polyfill so background images work as expected. */\n",
              "                background-size: auto;\n",
              "            }\n",
              "            .progress-bar-interrupted, .progress-bar-interrupted::-webkit-progress-bar {\n",
              "                background: #F44336;\n",
              "            }\n",
              "        </style>\n",
              "      <progress value='0' class='' max='1' style='width:300px; height:20px; vertical-align: middle;'></progress>\n",
              "      0.00% [0/1 00:00<00:00]\n",
              "    </div>\n",
              "    \n",
              "<table border=\"1\" class=\"dataframe\">\n",
              "  <thead>\n",
              "    <tr style=\"text-align: left;\">\n",
              "      <th>epoch</th>\n",
              "      <th>train_loss</th>\n",
              "      <th>valid_loss</th>\n",
              "      <th>error_rate</th>\n",
              "      <th>time</th>\n",
              "    </tr>\n",
              "  </thead>\n",
              "  <tbody>\n",
              "  </tbody>\n",
              "</table><p>\n",
              "\n",
              "    <div>\n",
              "        <style>\n",
              "            /* Turns off some styling */\n",
              "            progress {\n",
              "                /* gets rid of default border in Firefox and Opera. */\n",
              "                border: none;\n",
              "                /* Needs to be in here for Safari polyfill so background images work as expected. */\n",
              "                background-size: auto;\n",
              "            }\n",
              "            .progress-bar-interrupted, .progress-bar-interrupted::-webkit-progress-bar {\n",
              "                background: #F44336;\n",
              "            }\n",
              "        </style>\n",
              "      <progress value='0' class='' max='20' style='width:300px; height:20px; vertical-align: middle;'></progress>\n",
              "      0.00% [0/20 00:00<00:00]\n",
              "    </div>\n",
              "    "
            ],
            "text/plain": [
              "<IPython.core.display.HTML object>"
            ]
          },
          "metadata": {
            "tags": []
          }
        }
      ]
    },
    {
      "cell_type": "code",
      "metadata": {
        "id": "jldSAt5Q188l"
      },
      "source": [
        "ImageDataLoaders.from_name_func?"
      ],
      "execution_count": null,
      "outputs": []
    },
    {
      "cell_type": "markdown",
      "metadata": {
        "id": "1KBKOIaF188m"
      },
      "source": [
        "**Question**: Use `learn.fine_tune?` to bring up the documentation. Based on that:\n",
        "\n",
        "1. What does the \"1\" parameter to `fine_tune` do?\n",
        "2. What do you think the two different progress bars probably represent?"
      ]
    },
    {
      "cell_type": "code",
      "metadata": {
        "id": "Bywz1jwV188o"
      },
      "source": [
        "1. The number 1 tells the AI to look at each image once.\n",
        "2. The second bar is the training data, and the first bar is the "
      ],
      "execution_count": null,
      "outputs": []
    },
    {
      "cell_type": "markdown",
      "metadata": {
        "id": "eFVf7V--188o"
      },
      "source": [
        "**Question**: Give an example filename for one of the images in the dataset. Does the dataset label it as a cat or a dog? How can you tell?"
      ]
    },
    {
      "cell_type": "code",
      "metadata": {
        "id": "W_9VZarX188o"
      },
      "source": [
        "from os import listdir\n",
        "print(listdir(path)[0])\n",
        "\n",
        "# this is a dog, because it is a filename that starts with a lowercase letter"
      ],
      "execution_count": null,
      "outputs": []
    },
    {
      "cell_type": "markdown",
      "metadata": {
        "id": "MWQJgWmB188o"
      },
      "source": [
        "**Question**: How many images were in the training set? Validation set? (How can you easily tell?)"
      ]
    },
    {
      "cell_type": "code",
      "metadata": {
        "scrolled": true,
        "id": "Ivj79IFS188o"
      },
      "source": [
        "# your code here\n",
        "print(Counter(\n",
        "    get_image_files(path)\n",
        "    .attrgot('name')\n",
        "    .map(true)\n",
        "))\n",
        "\n",
        "print(f'Images in Validation set: {7390*.2}')\n",
        "print(f'Images in Training set: {7390*.8}')"
      ],
      "execution_count": null,
      "outputs": []
    },
    {
      "cell_type": "markdown",
      "metadata": {
        "id": "Fi_Cv4Dw188p"
      },
      "source": [
        "*Your response here. You may need to write a tiny bit of code.*"
      ]
    },
    {
      "cell_type": "markdown",
      "metadata": {
        "id": "JtkR2suM188q"
      },
      "source": [
        "**Question**: About how many of those images were classified correctly?"
      ]
    },
    {
      "cell_type": "code",
      "metadata": {
        "id": "Ktv1Vuox188q"
      },
      "source": [
        "print(Counter(\n",
        "    get_image_files(path)\n",
        "    .attrgot('name')\n",
        "    .map(is_cat)\n",
        "))"
      ],
      "execution_count": null,
      "outputs": []
    },
    {
      "cell_type": "markdown",
      "metadata": {
        "id": "2mZYD7TR188q"
      },
      "source": [
        "*** HELP ***\n",
        "\n",
        "**Question**: What is the output of the model?\n",
        "\n",
        "1. whether the image contains one cat (`True`) or many cats (`False`)\n",
        "2. whether the image contains a cat (`True`) or a dog (`False`)\n",
        "3. what breed of cat or dog is in the image (`British_Shorthair`, `chihuahua`, etc.)\n",
        "4. the name of the animal in the image (`Fido`, `Whiskers`, etc.)"
      ]
    },
    {
      "cell_type": "markdown",
      "metadata": {
        "id": "brje3u7d188q"
      },
      "source": [
        "**Exercise**: Use an 18-layer ResNet instead (`resnet18`). How does the error rate compare?"
      ]
    },
    {
      "cell_type": "code",
      "metadata": {
        "id": "1AEuadc-188r"
      },
      "source": [
        "from fastai.vision.all import * # imports fastai\n",
        "path = untar_data(URLs.PETS)/'images' # gathers the data\n",
        "\n",
        "def is_cat(x): return x[0].isupper() # determines label of data from filename\n",
        "dls = ImageDataLoaders.from_name_func(\n",
        "    path, get_image_files(path), valid_pct=0.2, seed=42,\n",
        "    label_func=is_cat, item_tfms=Resize(224)) # sets up ai\n",
        "\n",
        "learn = cnn_learner(dls, resnet18, metrics=error_rate) \n",
        "learn.fine_tune(1)"
      ],
      "execution_count": null,
      "outputs": []
    },
    {
      "cell_type": "markdown",
      "metadata": {
        "id": "xXigCGrn188r"
      },
      "source": [
        "The error rate is worse when we used 18 layers by a bit."
      ]
    },
    {
      "cell_type": "markdown",
      "metadata": {
        "id": "8uSHfEHq188r"
      },
      "source": [
        "Consider the We just changed the *architecture*, but not anything else. We could also change:\n",
        "\n",
        "* The *data*: give it different images (or more or fewer of the same images)\n",
        "* The *task*: have it try to predict something different\n",
        "* The *hyperparameters*: train it a different way, e.g., let it train longer (more epochs) or adjust itself faster (higher learning rate)\n",
        "\n",
        "Let's change the data.\n",
        "\n",
        "**Exercise**: Hold out 90% (instead of 20%) of the data for validation. (How many images will the training set have now?) How does the accuracy compare?\n",
        "\n",
        "(*Think*: Should you use the resnet18 or the resnet34 model here? What are the pros and cons?)"
      ]
    },
    {
      "cell_type": "code",
      "metadata": {
        "scrolled": false,
        "id": "0VWJ4J_F188r"
      },
      "source": [
        "from fastai.vision.all import * # imports fastai\n",
        "path = untar_data(URLs.PETS)/'images' # gathers the data\n",
        "\n",
        "def is_cat(x): return x[0].isupper() # determines label of data from filename\n",
        "dls = ImageDataLoaders.from_name_func(\n",
        "    path, get_image_files(path), valid_pct=0.9, seed=42,\n",
        "    label_func=is_cat, item_tfms=Resize(224)) # sets up ai\n",
        "\n",
        "learn = cnn_learner(dls, resnet18, metrics=error_rate) \n",
        "learn.fine_tune(1)"
      ],
      "execution_count": null,
      "outputs": []
    },
    {
      "cell_type": "markdown",
      "metadata": {
        "id": "0BbvNtCc188r"
      },
      "source": [
        "The accuracy gets much worse than the resnet18 with 20% of the data used for validation."
      ]
    },
    {
      "cell_type": "markdown",
      "metadata": {
        "id": "rpL3OGmo188s"
      },
      "source": [
        "**Question**: How might we change the *task*? That is, what different things could we have the model output?\n",
        "\n",
        "Think about that for a moment.\n",
        "\n",
        "\n",
        "Which ones are male and which ones are female.\n",
        "\n",
        ".\n",
        "\n",
        ".\n",
        "\n",
        "The model's outputs are (generally) determined by what sort of *labels* we have for our data. Let's have a look at what the files are named. We could open up our data directory, or we could look in Python."
      ]
    },
    {
      "cell_type": "code",
      "metadata": {
        "id": "hIq-WjMQ188s"
      },
      "source": [
        "[o.name for o in get_image_files(path)][:10] # show only the first 10"
      ],
      "execution_count": null,
      "outputs": []
    },
    {
      "cell_type": "code",
      "metadata": {
        "id": "LgMv6aUb188s"
      },
      "source": [
        "# Aside: fastai added a nice trick that makes this easy:\n",
        "get_image_files(path).attrgot('name')"
      ],
      "execution_count": null,
      "outputs": []
    },
    {
      "cell_type": "markdown",
      "metadata": {
        "id": "MZARjz2X188s"
      },
      "source": [
        "So it looks like we should be able to get the *breed* pretty easily. All we need to do is strip off everything after the last underscore. (Is this exercise familiar?)\n",
        "\n",
        "These names are passed to the `name_func`. So all we need to do is strip off the number and file extension at the end to get the breed.\n",
        "\n",
        "**Exercise**: Write a function called `get_breed` that takes a string and strips off everything after the last underscore."
      ]
    },
    {
      "cell_type": "code",
      "metadata": {
        "id": "Apgpp-DV188t"
      },
      "source": [
        "def get_breed(x):\n",
        "    return '_'.join(x.split(\"_\")[0:-1])"
      ],
      "execution_count": null,
      "outputs": []
    },
    {
      "cell_type": "markdown",
      "metadata": {
        "id": "8ip_p3Jr188t"
      },
      "source": [
        "Now let's test that function."
      ]
    },
    {
      "cell_type": "code",
      "metadata": {
        "id": "d2wtevsD188t"
      },
      "source": [
        "# When a Python expression gets complicated, I like to spread it onto multiple lines.\n",
        "# Often an expression is already inside some parentheses so you can just press Enter,\n",
        "# but for \"top-level\" expressions we need this trick of surrounding the whole thing in parens.\n",
        "# Aside from the attrot and map, this is just standard Python here, no special magic.\n",
        "(\n",
        "    get_image_files(path)\n",
        "    .attrgot('name')\n",
        "    .map(get_breed)\n",
        ")"
      ],
      "execution_count": null,
      "outputs": []
    },
    {
      "cell_type": "markdown",
      "metadata": {
        "id": "av1dvSLP188t"
      },
      "source": [
        "Let's check how many of each breed we have."
      ]
    },
    {
      "cell_type": "code",
      "metadata": {
        "id": "0rpI1Cix188t"
      },
      "source": [
        "Counter(\n",
        "    get_image_files(path)\n",
        "    .attrgot('name')\n",
        "    .map(get_breed)\n",
        ")"
      ],
      "execution_count": null,
      "outputs": []
    },
    {
      "cell_type": "markdown",
      "metadata": {
        "id": "41YTLw17188u"
      },
      "source": [
        "Now, let's change the model to output the breed instead of whether or not the thing is a cat.\n",
        "\n",
        "**Predict**: Will the accuracy number go up or down? Why?\n",
        "\n",
        "A: It will go down, because for each classification there will be less training data. With the cat vs dog, about half of the training data went for each classification, but now  less than 10% of the training data is used for each classification.\n",
        "\n",
        "**Exercise**: Go back to the initial setup (ResNet-34 model and full dataset), but instead of predicting cat vs dog, now predict breed."
      ]
    },
    {
      "cell_type": "code",
      "metadata": {
        "id": "wKLWFHDz188v"
      },
      "source": [
        "from fastai.vision.all import * # imports fastai\n",
        "path = untar_data(URLs.PETS)/'images' # gathers the data\n",
        "\n",
        "dls = ImageDataLoaders.from_name_func(\n",
        "    path, get_image_files(path), valid_pct=0.2, seed=42,\n",
        "    label_func=get_breed, item_tfms=Resize(224)) # sets up ai\n",
        "\n",
        "learn = cnn_learner(dls, resnet34, metrics=error_rate) \n",
        "learn.fine_tune(1)"
      ],
      "execution_count": null,
      "outputs": []
    },
    {
      "cell_type": "markdown",
      "metadata": {
        "id": "Si0zQnBW188v"
      },
      "source": [
        "**Reflect**: What accuracy do you get with this classifier? Is it better or worse? How can you tell?\n",
        "\n",
        "A: The accuracy is really bad, compared to the previous models, since  the error rate is between 9 and 12%."
      ]
    },
    {
      "cell_type": "markdown",
      "metadata": {
        "id": "jyd5WFT1188v"
      },
      "source": [
        ""
      ]
    },
    {
      "cell_type": "markdown",
      "metadata": {
        "id": "WxdGuwiZ188v"
      },
      "source": [
        "# Open-ended!"
      ]
    },
    {
      "cell_type": "markdown",
      "metadata": {
        "id": "HVJvkoep188v"
      },
      "source": [
        "If you got through that quickly, now try one or two more experiments of your own choice. For example, you might try changing a hyperparameter (epochs, learning rate, ...), try a different dataset size, try different random seeds, ..."
      ]
    },
    {
      "cell_type": "markdown",
      "metadata": {
        "id": "2KKbdi_E188v"
      },
      "source": [
        "# Summarize\n",
        "\n",
        "1. Write a short summary of the results of all of the experiments you performed in this lab.\n",
        "\n",
        "We learned that the amount of training data, the amount of classifications made by the AI, and the amount of layers in the neural network are all important parameters needed to make a good AI. \n",
        "\n",
        "2. Reflect on how confident you are that each of those comparisons didn't just happen by chance. Also reflect on which of the results would be likely to generalize to other tasks.\n",
        "\n",
        "I think it is highly unlikely that the comparisons happened by chance. I think most classification problems would be doable with this approach.\n"
      ]
    },
    {
      "cell_type": "markdown",
      "metadata": {
        "id": "7Eawn6wI188w"
      },
      "source": [
        "# Wrap-up"
      ]
    },
    {
      "cell_type": "markdown",
      "metadata": {
        "id": "HkhxKC0Q188w"
      },
      "source": [
        "* Make sure you Save this notebook.\n",
        "* From the Kernel menu, select \"Restart and Run All\". This will take a few minutes, but will ensure that all of your code still runs. Double-check that your results still make sense.\n",
        "* Commit and push. Check that your notebook is visible on GitHub."
      ]
    }
  ]
}